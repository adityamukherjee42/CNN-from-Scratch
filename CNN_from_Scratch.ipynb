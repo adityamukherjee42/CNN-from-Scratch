{
  "nbformat": 4,
  "nbformat_minor": 0,
  "metadata": {
    "colab": {
      "name": "CNN from Scratch.ipynb",
      "provenance": [],
      "collapsed_sections": [],
      "authorship_tag": "ABX9TyP3vt5iUoNDwPem8s03xJFy",
      "include_colab_link": true
    },
    "kernelspec": {
      "name": "python3",
      "display_name": "Python 3"
    },
    "accelerator": "GPU",
    "widgets": {
      "application/vnd.jupyter.widget-state+json": {
        "8431684fe71d41b4ac6508dfc7077cc0": {
          "model_module": "@jupyter-widgets/controls",
          "model_name": "HBoxModel",
          "state": {
            "_view_name": "HBoxView",
            "_dom_classes": [],
            "_model_name": "HBoxModel",
            "_view_module": "@jupyter-widgets/controls",
            "_model_module_version": "1.5.0",
            "_view_count": null,
            "_view_module_version": "1.5.0",
            "box_style": "",
            "layout": "IPY_MODEL_1eda0d14ec2044d7a3bafcd2b667391c",
            "_model_module": "@jupyter-widgets/controls",
            "children": [
              "IPY_MODEL_f64a322cb2da4c0d9d37b2e93d2ecef1",
              "IPY_MODEL_bfee89b1d8644fb3a1267d39343062f5"
            ]
          }
        },
        "1eda0d14ec2044d7a3bafcd2b667391c": {
          "model_module": "@jupyter-widgets/base",
          "model_name": "LayoutModel",
          "state": {
            "_view_name": "LayoutView",
            "grid_template_rows": null,
            "right": null,
            "justify_content": null,
            "_view_module": "@jupyter-widgets/base",
            "overflow": null,
            "_model_module_version": "1.2.0",
            "_view_count": null,
            "flex_flow": null,
            "width": null,
            "min_width": null,
            "border": null,
            "align_items": null,
            "bottom": null,
            "_model_module": "@jupyter-widgets/base",
            "top": null,
            "grid_column": null,
            "overflow_y": null,
            "overflow_x": null,
            "grid_auto_flow": null,
            "grid_area": null,
            "grid_template_columns": null,
            "flex": null,
            "_model_name": "LayoutModel",
            "justify_items": null,
            "grid_row": null,
            "max_height": null,
            "align_content": null,
            "visibility": null,
            "align_self": null,
            "height": null,
            "min_height": null,
            "padding": null,
            "grid_auto_rows": null,
            "grid_gap": null,
            "max_width": null,
            "order": null,
            "_view_module_version": "1.2.0",
            "grid_template_areas": null,
            "object_position": null,
            "object_fit": null,
            "grid_auto_columns": null,
            "margin": null,
            "display": null,
            "left": null
          }
        },
        "f64a322cb2da4c0d9d37b2e93d2ecef1": {
          "model_module": "@jupyter-widgets/controls",
          "model_name": "FloatProgressModel",
          "state": {
            "_view_name": "ProgressView",
            "style": "IPY_MODEL_3539e8b5f63f461ba72883f8533b5d74",
            "_dom_classes": [],
            "description": "",
            "_model_name": "FloatProgressModel",
            "bar_style": "info",
            "max": 1,
            "_view_module": "@jupyter-widgets/controls",
            "_model_module_version": "1.5.0",
            "value": 1,
            "_view_count": null,
            "_view_module_version": "1.5.0",
            "orientation": "horizontal",
            "min": 0,
            "description_tooltip": null,
            "_model_module": "@jupyter-widgets/controls",
            "layout": "IPY_MODEL_67fd7c2abf704a538f0ce882c84c7d02"
          }
        },
        "bfee89b1d8644fb3a1267d39343062f5": {
          "model_module": "@jupyter-widgets/controls",
          "model_name": "HTMLModel",
          "state": {
            "_view_name": "HTMLView",
            "style": "IPY_MODEL_aded7b20c7f44ef2a5bcaba985366809",
            "_dom_classes": [],
            "description": "",
            "_model_name": "HTMLModel",
            "placeholder": "​",
            "_view_module": "@jupyter-widgets/controls",
            "_model_module_version": "1.5.0",
            "value": " 170500096/? [00:19&lt;00:00, 55611057.03it/s]",
            "_view_count": null,
            "_view_module_version": "1.5.0",
            "description_tooltip": null,
            "_model_module": "@jupyter-widgets/controls",
            "layout": "IPY_MODEL_9697b568c8ce43fd87ad83f185a08d07"
          }
        },
        "3539e8b5f63f461ba72883f8533b5d74": {
          "model_module": "@jupyter-widgets/controls",
          "model_name": "ProgressStyleModel",
          "state": {
            "_view_name": "StyleView",
            "_model_name": "ProgressStyleModel",
            "description_width": "initial",
            "_view_module": "@jupyter-widgets/base",
            "_model_module_version": "1.5.0",
            "_view_count": null,
            "_view_module_version": "1.2.0",
            "bar_color": null,
            "_model_module": "@jupyter-widgets/controls"
          }
        },
        "67fd7c2abf704a538f0ce882c84c7d02": {
          "model_module": "@jupyter-widgets/base",
          "model_name": "LayoutModel",
          "state": {
            "_view_name": "LayoutView",
            "grid_template_rows": null,
            "right": null,
            "justify_content": null,
            "_view_module": "@jupyter-widgets/base",
            "overflow": null,
            "_model_module_version": "1.2.0",
            "_view_count": null,
            "flex_flow": null,
            "width": null,
            "min_width": null,
            "border": null,
            "align_items": null,
            "bottom": null,
            "_model_module": "@jupyter-widgets/base",
            "top": null,
            "grid_column": null,
            "overflow_y": null,
            "overflow_x": null,
            "grid_auto_flow": null,
            "grid_area": null,
            "grid_template_columns": null,
            "flex": null,
            "_model_name": "LayoutModel",
            "justify_items": null,
            "grid_row": null,
            "max_height": null,
            "align_content": null,
            "visibility": null,
            "align_self": null,
            "height": null,
            "min_height": null,
            "padding": null,
            "grid_auto_rows": null,
            "grid_gap": null,
            "max_width": null,
            "order": null,
            "_view_module_version": "1.2.0",
            "grid_template_areas": null,
            "object_position": null,
            "object_fit": null,
            "grid_auto_columns": null,
            "margin": null,
            "display": null,
            "left": null
          }
        },
        "aded7b20c7f44ef2a5bcaba985366809": {
          "model_module": "@jupyter-widgets/controls",
          "model_name": "DescriptionStyleModel",
          "state": {
            "_view_name": "StyleView",
            "_model_name": "DescriptionStyleModel",
            "description_width": "",
            "_view_module": "@jupyter-widgets/base",
            "_model_module_version": "1.5.0",
            "_view_count": null,
            "_view_module_version": "1.2.0",
            "_model_module": "@jupyter-widgets/controls"
          }
        },
        "9697b568c8ce43fd87ad83f185a08d07": {
          "model_module": "@jupyter-widgets/base",
          "model_name": "LayoutModel",
          "state": {
            "_view_name": "LayoutView",
            "grid_template_rows": null,
            "right": null,
            "justify_content": null,
            "_view_module": "@jupyter-widgets/base",
            "overflow": null,
            "_model_module_version": "1.2.0",
            "_view_count": null,
            "flex_flow": null,
            "width": null,
            "min_width": null,
            "border": null,
            "align_items": null,
            "bottom": null,
            "_model_module": "@jupyter-widgets/base",
            "top": null,
            "grid_column": null,
            "overflow_y": null,
            "overflow_x": null,
            "grid_auto_flow": null,
            "grid_area": null,
            "grid_template_columns": null,
            "flex": null,
            "_model_name": "LayoutModel",
            "justify_items": null,
            "grid_row": null,
            "max_height": null,
            "align_content": null,
            "visibility": null,
            "align_self": null,
            "height": null,
            "min_height": null,
            "padding": null,
            "grid_auto_rows": null,
            "grid_gap": null,
            "max_width": null,
            "order": null,
            "_view_module_version": "1.2.0",
            "grid_template_areas": null,
            "object_position": null,
            "object_fit": null,
            "grid_auto_columns": null,
            "margin": null,
            "display": null,
            "left": null
          }
        }
      }
    }
  },
  "cells": [
    {
      "cell_type": "markdown",
      "metadata": {
        "id": "view-in-github",
        "colab_type": "text"
      },
      "source": [
        "<a href=\"https://colab.research.google.com/github/adityamukherjee42/CNN-from-Scratch/blob/main/CNN_from_Scratch.ipynb\" target=\"_parent\"><img src=\"https://colab.research.google.com/assets/colab-badge.svg\" alt=\"Open In Colab\"/></a>"
      ]
    },
    {
      "cell_type": "code",
      "metadata": {
        "colab": {
          "base_uri": "https://localhost:8080/"
        },
        "id": "SMw9HqqXJDsH",
        "outputId": "094d26fc-832f-4def-8c0c-fc26a350f6ef"
      },
      "source": [
        "import torch\r\n",
        "import numpy as np\r\n",
        "train_on_gpu = torch.cuda.is_available()\r\n",
        "\r\n",
        "if not train_on_gpu:\r\n",
        "    print('CUDA is not available.  Training on CPU ...')\r\n",
        "else:\r\n",
        "    print('CUDA is available!  Training on GPU ...')"
      ],
      "execution_count": 1,
      "outputs": [
        {
          "output_type": "stream",
          "text": [
            "CUDA is available!  Training on GPU ...\n"
          ],
          "name": "stdout"
        }
      ]
    },
    {
      "cell_type": "code",
      "metadata": {
        "id": "16_M7Z8qJFk7"
      },
      "source": [
        "from torchvision import datasets\r\n",
        "import torchvision.transforms as transforms\r\n",
        "from torch.utils.data.sampler import SubsetRandomSampler"
      ],
      "execution_count": 2,
      "outputs": []
    },
    {
      "cell_type": "code",
      "metadata": {
        "colab": {
          "base_uri": "https://localhost:8080/",
          "height": 99,
          "referenced_widgets": [
            "8431684fe71d41b4ac6508dfc7077cc0",
            "1eda0d14ec2044d7a3bafcd2b667391c",
            "f64a322cb2da4c0d9d37b2e93d2ecef1",
            "bfee89b1d8644fb3a1267d39343062f5",
            "3539e8b5f63f461ba72883f8533b5d74",
            "67fd7c2abf704a538f0ce882c84c7d02",
            "aded7b20c7f44ef2a5bcaba985366809",
            "9697b568c8ce43fd87ad83f185a08d07"
          ]
        },
        "id": "l3C_93_jJNT5",
        "outputId": "59c8810b-1239-43fa-d8f8-68263154f0b3"
      },
      "source": [
        "num_workers=2\r\n",
        "batch_size=20\r\n",
        "valid_size=0.2\r\n",
        "\r\n",
        "transform=transforms.Compose([transforms.ToTensor(),transforms.Normalize((0.5,0.5,0.5),(0.5,0.5,0.5))])\r\n",
        "\r\n",
        "train_data=datasets.CIFAR10('data', train=True, download=True, transform=transform)\r\n",
        "test_data = datasets.CIFAR10('data', train=False,download=True, transform=transform)\r\n",
        "\r\n",
        "num_train=int(len(train_data))\r\n",
        "indices = list(range(num_train))\r\n",
        "np.random.shuffle(indices)\r\n",
        "split = int(np.floor(valid_size * num_train))\r\n",
        "train_idx, valid_idx = indices[split:], indices[:split]\r\n",
        "\r\n",
        "\r\n",
        "train_sampler = SubsetRandomSampler(train_idx)\r\n",
        "valid_sampler = SubsetRandomSampler(valid_idx)\r\n",
        "\r\n",
        "\r\n",
        "train_loader = torch.utils.data.DataLoader(train_data, batch_size=batch_size,\r\n",
        "    sampler=train_sampler, num_workers=num_workers)\r\n",
        "valid_loader = torch.utils.data.DataLoader(train_data, batch_size=batch_size, \r\n",
        "    sampler=valid_sampler, num_workers=num_workers)\r\n",
        "test_loader = torch.utils.data.DataLoader(test_data, batch_size=batch_size, \r\n",
        "    num_workers=num_workers)\r\n",
        "\r\n",
        "\r\n",
        "classes = ['airplane', 'automobile', 'bird', 'cat', 'deer',\r\n",
        "           'dog', 'frog', 'horse', 'ship', 'truck']\r\n"
      ],
      "execution_count": 3,
      "outputs": [
        {
          "output_type": "stream",
          "text": [
            "Downloading https://www.cs.toronto.edu/~kriz/cifar-10-python.tar.gz to data/cifar-10-python.tar.gz\n"
          ],
          "name": "stdout"
        },
        {
          "output_type": "display_data",
          "data": {
            "application/vnd.jupyter.widget-view+json": {
              "model_id": "8431684fe71d41b4ac6508dfc7077cc0",
              "version_minor": 0,
              "version_major": 2
            },
            "text/plain": [
              "HBox(children=(FloatProgress(value=1.0, bar_style='info', max=1.0), HTML(value='')))"
            ]
          },
          "metadata": {
            "tags": []
          }
        },
        {
          "output_type": "stream",
          "text": [
            "Extracting data/cifar-10-python.tar.gz to data\n",
            "Files already downloaded and verified\n"
          ],
          "name": "stdout"
        }
      ]
    },
    {
      "cell_type": "code",
      "metadata": {
        "id": "S8h5sxoMJQ_Q"
      },
      "source": [
        "import torch.nn as nn\r\n",
        "import torch.nn.functional as F"
      ],
      "execution_count": 4,
      "outputs": []
    },
    {
      "cell_type": "code",
      "metadata": {
        "colab": {
          "base_uri": "https://localhost:8080/"
        },
        "id": "-_ppWrFZLYmH",
        "outputId": "d7fed0ec-40ec-432c-ee9e-c65ee5a962d1"
      },
      "source": [
        "class Net(nn.Module):\r\n",
        "  def __init__(self):\r\n",
        "    super(Net,self).__init__()\r\n",
        "    self.conv1=nn.Conv2d(3,16,3,padding=1)\r\n",
        "    self.conv2=nn.Conv2d(16,32,3,padding=1)\r\n",
        "    self.conv3=nn.Conv2d(32,64,3,padding=1)\r\n",
        "\r\n",
        "    self.pool=nn.MaxPool2d(2,2)\r\n",
        "\r\n",
        "    self.fc1=nn.Linear(64*4*4,512)\r\n",
        "    self.fc2=nn.Linear(512,10)\r\n",
        "\r\n",
        "    self.Dropout=nn.Dropout(0.2)\r\n",
        "  \r\n",
        "  def forward(self,x):\r\n",
        "    x=self.pool(F.relu(self.conv1(x)))\r\n",
        "    x=self.pool(F.relu(self.conv2(x)))\r\n",
        "    x=self.pool(F.relu(self.conv3(x)))\r\n",
        "\r\n",
        "    x=x.view(-1,64*4*4)\r\n",
        "\r\n",
        "    x=self.Dropout(x)\r\n",
        "\r\n",
        "    x=F.relu(self.fc1(x))\r\n",
        "\r\n",
        "    x=self.Dropout(x)\r\n",
        "\r\n",
        "    x=self.fc2(x)\r\n",
        "\r\n",
        "    return x\r\n",
        "\r\n",
        "model = Net()\r\n",
        "print(model)\r\n",
        "\r\n",
        "if train_on_gpu:\r\n",
        "    model.cuda()\r\n",
        "\r\n",
        "\r\n",
        "\r\n"
      ],
      "execution_count": 5,
      "outputs": [
        {
          "output_type": "stream",
          "text": [
            "Net(\n",
            "  (conv1): Conv2d(3, 16, kernel_size=(3, 3), stride=(1, 1), padding=(1, 1))\n",
            "  (conv2): Conv2d(16, 32, kernel_size=(3, 3), stride=(1, 1), padding=(1, 1))\n",
            "  (conv3): Conv2d(32, 64, kernel_size=(3, 3), stride=(1, 1), padding=(1, 1))\n",
            "  (pool): MaxPool2d(kernel_size=2, stride=2, padding=0, dilation=1, ceil_mode=False)\n",
            "  (fc1): Linear(in_features=1024, out_features=512, bias=True)\n",
            "  (fc2): Linear(in_features=512, out_features=10, bias=True)\n",
            "  (Dropout): Dropout(p=0.2, inplace=False)\n",
            ")\n"
          ],
          "name": "stdout"
        }
      ]
    },
    {
      "cell_type": "code",
      "metadata": {
        "id": "_vnX-qLFVAui"
      },
      "source": [
        "criterion=nn.CrossEntropyLoss()\r\n",
        "import torch.optim as optim\r\n",
        "optimizer=optim.SGD(model.parameters(), lr=0.01)"
      ],
      "execution_count": 6,
      "outputs": []
    },
    {
      "cell_type": "code",
      "metadata": {
        "colab": {
          "base_uri": "https://localhost:8080/"
        },
        "id": "jeyy_cz08w1A",
        "outputId": "ce2754f8-c6cc-41b7-9afc-76aa615f9c8a"
      },
      "source": [
        "epochs=30\r\n",
        "valid_loss_min=np.Inf\r\n",
        "for i in range(1,epochs+1):\r\n",
        "  train_loss=0\r\n",
        "  valid_loss=0\r\n",
        "\r\n",
        "  model.train()\r\n",
        "  for data,target in train_loader:\r\n",
        "    if train_on_gpu:\r\n",
        "      data, target = data.cuda(), target.cuda()\r\n",
        "    optimizer.zero_grad()\r\n",
        "    output=model(data)\r\n",
        "    loss=criterion(output,target)\r\n",
        "    loss.backward()\r\n",
        "    optimizer.step()\r\n",
        "    train_loss += loss.item()*data.size(0)\r\n",
        "\r\n",
        "  model.eval()\r\n",
        "  for data,target in valid_loader:\r\n",
        "    if train_on_gpu:\r\n",
        "      data, target = data.cuda(), target.cuda()\r\n",
        "    optimizer.zero_grad()\r\n",
        "    output=model(data)\r\n",
        "    loss=criterion(output,target)\r\n",
        "    loss.backward()\r\n",
        "    optimizer.step()\r\n",
        "    valid_loss += loss.item()*data.size(0)\r\n",
        "  \r\n",
        "  valid_loss=valid_loss/len(train_loader.sampler)\r\n",
        "  train_loss=train_loss/len(train_loader.sampler)\r\n",
        "  print('Epoch: {} \\tTraining Loss: {:.6f} \\tValidation Loss: {:.6f}'.format(i, train_loss, valid_loss))\r\n",
        "  if valid_loss <= valid_loss_min:\r\n",
        "        print('Validation loss decreased ({:.6f} --> {:.6f}).  Saving model ...'.format(valid_loss_min,valid_loss))\r\n",
        "        torch.save(model.state_dict(), 'model_cifar.pt')\r\n",
        "        valid_loss_min = valid_loss\r\n",
        "\r\n",
        "\r\n"
      ],
      "execution_count": 7,
      "outputs": [
        {
          "output_type": "stream",
          "text": [
            "Epoch: 1 \tTraining Loss: 2.125424 \tValidation Loss: 0.439107\n",
            "Validation loss decreased (inf --> 0.439107).  Saving model ...\n",
            "Epoch: 2 \tTraining Loss: 1.578004 \tValidation Loss: 0.353555\n",
            "Validation loss decreased (0.439107 --> 0.353555).  Saving model ...\n",
            "Epoch: 3 \tTraining Loss: 1.374569 \tValidation Loss: 0.311877\n",
            "Validation loss decreased (0.353555 --> 0.311877).  Saving model ...\n",
            "Epoch: 4 \tTraining Loss: 1.236832 \tValidation Loss: 0.278544\n",
            "Validation loss decreased (0.311877 --> 0.278544).  Saving model ...\n",
            "Epoch: 5 \tTraining Loss: 1.130236 \tValidation Loss: 0.249727\n",
            "Validation loss decreased (0.278544 --> 0.249727).  Saving model ...\n",
            "Epoch: 6 \tTraining Loss: 1.035272 \tValidation Loss: 0.227287\n",
            "Validation loss decreased (0.249727 --> 0.227287).  Saving model ...\n",
            "Epoch: 7 \tTraining Loss: 0.965668 \tValidation Loss: 0.210148\n",
            "Validation loss decreased (0.227287 --> 0.210148).  Saving model ...\n",
            "Epoch: 8 \tTraining Loss: 0.903749 \tValidation Loss: 0.193364\n",
            "Validation loss decreased (0.210148 --> 0.193364).  Saving model ...\n",
            "Epoch: 9 \tTraining Loss: 0.850432 \tValidation Loss: 0.177816\n",
            "Validation loss decreased (0.193364 --> 0.177816).  Saving model ...\n",
            "Epoch: 10 \tTraining Loss: 0.802916 \tValidation Loss: 0.164729\n",
            "Validation loss decreased (0.177816 --> 0.164729).  Saving model ...\n",
            "Epoch: 11 \tTraining Loss: 0.759230 \tValidation Loss: 0.151526\n",
            "Validation loss decreased (0.164729 --> 0.151526).  Saving model ...\n",
            "Epoch: 12 \tTraining Loss: 0.718066 \tValidation Loss: 0.138727\n",
            "Validation loss decreased (0.151526 --> 0.138727).  Saving model ...\n",
            "Epoch: 13 \tTraining Loss: 0.683007 \tValidation Loss: 0.126399\n",
            "Validation loss decreased (0.138727 --> 0.126399).  Saving model ...\n",
            "Epoch: 14 \tTraining Loss: 0.648731 \tValidation Loss: 0.115836\n",
            "Validation loss decreased (0.126399 --> 0.115836).  Saving model ...\n",
            "Epoch: 15 \tTraining Loss: 0.614516 \tValidation Loss: 0.103761\n",
            "Validation loss decreased (0.115836 --> 0.103761).  Saving model ...\n",
            "Epoch: 16 \tTraining Loss: 0.584853 \tValidation Loss: 0.093228\n",
            "Validation loss decreased (0.103761 --> 0.093228).  Saving model ...\n",
            "Epoch: 17 \tTraining Loss: 0.553822 \tValidation Loss: 0.082901\n",
            "Validation loss decreased (0.093228 --> 0.082901).  Saving model ...\n",
            "Epoch: 18 \tTraining Loss: 0.525077 \tValidation Loss: 0.072260\n",
            "Validation loss decreased (0.082901 --> 0.072260).  Saving model ...\n",
            "Epoch: 19 \tTraining Loss: 0.500489 \tValidation Loss: 0.064723\n",
            "Validation loss decreased (0.072260 --> 0.064723).  Saving model ...\n",
            "Epoch: 20 \tTraining Loss: 0.476175 \tValidation Loss: 0.056968\n",
            "Validation loss decreased (0.064723 --> 0.056968).  Saving model ...\n",
            "Epoch: 21 \tTraining Loss: 0.442581 \tValidation Loss: 0.049640\n",
            "Validation loss decreased (0.056968 --> 0.049640).  Saving model ...\n",
            "Epoch: 22 \tTraining Loss: 0.418681 \tValidation Loss: 0.042459\n",
            "Validation loss decreased (0.049640 --> 0.042459).  Saving model ...\n",
            "Epoch: 23 \tTraining Loss: 0.397702 \tValidation Loss: 0.036761\n",
            "Validation loss decreased (0.042459 --> 0.036761).  Saving model ...\n",
            "Epoch: 24 \tTraining Loss: 0.375972 \tValidation Loss: 0.032097\n",
            "Validation loss decreased (0.036761 --> 0.032097).  Saving model ...\n",
            "Epoch: 25 \tTraining Loss: 0.354106 \tValidation Loss: 0.029091\n",
            "Validation loss decreased (0.032097 --> 0.029091).  Saving model ...\n",
            "Epoch: 26 \tTraining Loss: 0.337107 \tValidation Loss: 0.025149\n",
            "Validation loss decreased (0.029091 --> 0.025149).  Saving model ...\n",
            "Epoch: 27 \tTraining Loss: 0.312137 \tValidation Loss: 0.021605\n",
            "Validation loss decreased (0.025149 --> 0.021605).  Saving model ...\n",
            "Epoch: 28 \tTraining Loss: 0.301484 \tValidation Loss: 0.019691\n",
            "Validation loss decreased (0.021605 --> 0.019691).  Saving model ...\n",
            "Epoch: 29 \tTraining Loss: 0.282780 \tValidation Loss: 0.018500\n",
            "Validation loss decreased (0.019691 --> 0.018500).  Saving model ...\n",
            "Epoch: 30 \tTraining Loss: 0.268997 \tValidation Loss: 0.017240\n",
            "Validation loss decreased (0.018500 --> 0.017240).  Saving model ...\n"
          ],
          "name": "stdout"
        }
      ]
    },
    {
      "cell_type": "code",
      "metadata": {
        "colab": {
          "base_uri": "https://localhost:8080/"
        },
        "id": "oZYwcY9H_DHz",
        "outputId": "360d22da-5c75-41e9-f6e7-d3f3ba1967cd"
      },
      "source": [
        "\r\n",
        "test_loss = 0.0\r\n",
        "class_correct = list(0. for i in range(10))\r\n",
        "class_total = list(0. for i in range(10))\r\n",
        "\r\n",
        "model.eval()\r\n",
        "for data, target in test_loader:\r\n",
        "    if train_on_gpu:\r\n",
        "        data, target = data.cuda(), target.cuda()\r\n",
        "    output = model(data)\r\n",
        "    loss = criterion(output, target) \r\n",
        "    test_loss += loss.item()*data.size(0)\r\n",
        "    _, pred = torch.max(output, 1)    \r\n",
        "    correct_tensor = pred.eq(target.data.view_as(pred))\r\n",
        "    correct = np.squeeze(correct_tensor.numpy()) if not train_on_gpu else np.squeeze(correct_tensor.cpu().numpy())\r\n",
        "    for i in range(batch_size):\r\n",
        "        label = target.data[i]\r\n",
        "        class_correct[label] += correct[i].item()\r\n",
        "        class_total[label] += 1\r\n",
        "\r\n",
        "test_loss = test_loss/len(test_loader.dataset)\r\n",
        "print('Test Loss: {:.6f}\\n'.format(test_loss))\r\n",
        "\r\n",
        "for i in range(10):\r\n",
        "    if class_total[i] > 0:\r\n",
        "        print('Test Accuracy of %5s: %2d%% (%2d/%2d)' % (\r\n",
        "            classes[i], 100 * class_correct[i] / class_total[i],\r\n",
        "            np.sum(class_correct[i]), np.sum(class_total[i])))\r\n",
        "    else:\r\n",
        "        print('Test Accuracy of %5s: N/A (no training examples)' % (classes[i]))\r\n",
        "\r\n",
        "print('\\nTest Accuracy (Overall): %2d%% (%2d/%2d)' % (\r\n",
        "    100. * np.sum(class_correct) / np.sum(class_total),\r\n",
        "    np.sum(class_correct), np.sum(class_total)))"
      ],
      "execution_count": 8,
      "outputs": [
        {
          "output_type": "stream",
          "text": [
            "Test Loss: 0.973800\n",
            "\n",
            "Test Accuracy of airplane: 81% (818/1000)\n",
            "Test Accuracy of automobile: 87% (870/1000)\n",
            "Test Accuracy of  bird: 67% (671/1000)\n",
            "Test Accuracy of   cat: 61% (610/1000)\n",
            "Test Accuracy of  deer: 72% (725/1000)\n",
            "Test Accuracy of   dog: 63% (636/1000)\n",
            "Test Accuracy of  frog: 82% (824/1000)\n",
            "Test Accuracy of horse: 84% (845/1000)\n",
            "Test Accuracy of  ship: 87% (871/1000)\n",
            "Test Accuracy of truck: 85% (855/1000)\n",
            "\n",
            "Test Accuracy (Overall): 77% (7725/10000)\n"
          ],
          "name": "stdout"
        }
      ]
    },
    {
      "cell_type": "code",
      "metadata": {
        "id": "CpY_d_m4_Cle"
      },
      "source": [
        ""
      ],
      "execution_count": null,
      "outputs": []
    }
  ]
}